{
 "cells": [
  {
   "cell_type": "markdown",
   "id": "4ff5b50a",
   "metadata": {},
   "source": [
    "## Table of contents"
   ]
  },
  {
   "cell_type": "markdown",
   "id": "88cd4b1a",
   "metadata": {},
   "source": [
    "\n",
    "### NEGF- 1D/2D\n",
    "Following Script include implementation of NEGF in 1D and 2D. Each script is mutual Independent\n",
    "\n",
    "- [NEGF_Decoupled](NEGF_Decoupled.ipynb)  \n",
    "    Script contains the implementation of a coupled spatio-eigen basis, which can be easily modified for different device geometries.\n",
    "- [NS_TB](2DNEGF/NS_TB.ipynb)  \n",
    "    Implementing NEGF for 2D Nanosheet using tight binding(position basis). \n",
    "   \n",
    "- [NS_SE](2DNEGF/NS_SE.ipynb)  \n",
    "    Implementing NEGF for 2D Nanosheet using using coupled spatio-eigen basis.\n",
    "\n",
    "#### Misc \n",
    "\n",
    "- [2D_Eig](2DNEGF/2D_Eig.ipynb)  \n",
    "   To generate eigenvalue and overlap figures for Nanosheet \n",
    "  \n"
   ]
  },
  {
   "cell_type": "markdown",
   "id": "fcf1c559",
   "metadata": {},
   "source": [
    "### Coupled\n",
    "Following script include implementation of 3D NEGF in circular geometry\n",
    "\n",
    "- [H_Circle](Coupled/H_Circle.ipynb)  \n",
    "    Generates the Hamiltonian for the top and bottom contacts.\n",
    "    Applies unitary transformation corresponding to the contacts and saves them as CSV files.\n",
    "    Loads the current operator from `NEGF.ipynb` (in eigen-basis) and converts it to the tight-binding basis to obtain the spatial current profile.\n",
    "    \n",
    "- [NEGF](Coupled/NEGF.ipynb)  \n",
    "    A more generic code that takes the Hamiltonian corresponding to the left and right contacts as CSV files.\n",
    "    Uses an optimized inverse calculation function to compute the current operator.\n",
    "\n",
    "- [3D_Eig](Coupled/3D_Eig.ipynb)  \n",
    "    To generate eigenvalue and overlap figures for Sk-MTJ \n"
   ]
  },
  {
   "cell_type": "markdown",
   "id": "879eda19",
   "metadata": {},
   "source": [
    "### Figure\n",
    "Following script include implementation of 3D NEGF in circular geometry\n",
    "\n",
    "- [Regular](Figure/Regular.ipynb)  \n",
    "    Script to plot regular plot with control over different aspect of plot\n",
    "    \n",
    "- [ColorCircle](Figure/ColorCircle.ipynb)  \n",
    "    Script to plot colored circular plot. "
   ]
  },
  {
   "cell_type": "code",
   "execution_count": null,
   "id": "b94a8119",
   "metadata": {},
   "outputs": [],
   "source": []
  }
 ],
 "metadata": {
  "kernelspec": {
   "display_name": "Python 3 (ipykernel)",
   "language": "python",
   "name": "python3"
  },
  "language_info": {
   "codemirror_mode": {
    "name": "ipython",
    "version": 3
   },
   "file_extension": ".py",
   "mimetype": "text/x-python",
   "name": "python",
   "nbconvert_exporter": "python",
   "pygments_lexer": "ipython3",
   "version": "3.10.12"
  }
 },
 "nbformat": 4,
 "nbformat_minor": 5
}
